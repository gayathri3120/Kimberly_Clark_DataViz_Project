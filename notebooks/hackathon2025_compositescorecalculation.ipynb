{
  "nbformat": 4,
  "nbformat_minor": 0,
  "metadata": {
    "colab": {
      "provenance": []
    },
    "kernelspec": {
      "name": "python3",
      "display_name": "Python 3"
    },
    "language_info": {
      "name": "python"
    }
  },
  "cells": [
    {
      "cell_type": "code",
      "source": [
        "# If in Colab, then import the drive module from google.colab\n",
        "if 'google.colab' in str(get_ipython()):\n",
        "  from google.colab import drive\n",
        "  # Mount the Google Drive to access files stored there\n",
        "  drive.mount('/content/drive')\n",
        "\n",
        "  # Install the latest version of torchtext library quietly without showing output\n",
        "\n",
        "  !pip install torchinfo -qq\n",
        "\n",
        "  basepath = '/content/drive/MyDrive/HACKATHON_2025'"
      ],
      "metadata": {
        "colab": {
          "base_uri": "https://localhost:8080/"
        },
        "id": "lVYeYtt3FmVU",
        "outputId": "184f8546-5682-4cb7-9818-f47499a87c86"
      },
      "execution_count": null,
      "outputs": [
        {
          "output_type": "stream",
          "name": "stdout",
          "text": [
            "Drive already mounted at /content/drive; to attempt to forcibly remount, call drive.mount(\"/content/drive\", force_remount=True).\n"
          ]
        }
      ]
    },
    {
      "cell_type": "code",
      "source": [],
      "metadata": {
        "colab": {
          "base_uri": "https://localhost:8080/"
        },
        "id": "UhZv8elCTH2m",
        "outputId": "56b5e3ad-673b-4ce6-dd51-667c7eb17fed"
      },
      "execution_count": null,
      "outputs": [
        {
          "output_type": "stream",
          "name": "stdout",
          "text": [
            "Top 3 Locations to Build Tissue Mills:\n",
            "                                  Metro Area  Composite Score\n",
            "  Chicago-Naperville-Elgin, IL-IN Metro Area         0.501847\n",
            "Atlanta-Sandy Springs-Roswell, GA Metro Area         0.472369\n",
            "                     Logan, UT-ID Metro Area         0.468306\n"
          ]
        }
      ]
    },
    {
      "cell_type": "code",
      "source": [],
      "metadata": {
        "colab": {
          "base_uri": "https://localhost:8080/"
        },
        "id": "4lzbyeBDUh0C",
        "outputId": "c51898d9-78cb-4d44-d179-a642e9ec7099"
      },
      "execution_count": null,
      "outputs": [
        {
          "output_type": "stream",
          "name": "stdout",
          "text": [
            "Top 3 Locations to Build Tissue Mills:\n",
            "                                  Metro Area  Composite Score\n",
            "  Chicago-Naperville-Elgin, IL-IN Metro Area         0.491113\n",
            "Atlanta-Sandy Springs-Roswell, GA Metro Area         0.462931\n",
            "                     Logan, UT-ID Metro Area         0.450862\n"
          ]
        }
      ]
    },
    {
      "cell_type": "code",
      "source": [],
      "metadata": {
        "colab": {
          "base_uri": "https://localhost:8080/"
        },
        "id": "WwJIOAgUcnsa",
        "outputId": "51be5814-0287-4d5c-ff79-ecf63c0a3020"
      },
      "execution_count": null,
      "outputs": [
        {
          "output_type": "stream",
          "name": "stdout",
          "text": [
            "Missing value counts before filtering:\n",
            "Labor Force Potential     0\n",
            "Labor Cost Index          0\n",
            "Infrastructure Score      0\n",
            "Stability Factor          0\n",
            "Timber Availability       0\n",
            "Tissue Demand            10\n",
            "dtype: int64\n",
            "Top 3 Locations to Build Tissue Mills (Final Model):\n",
            "                                    Metro Area  Composite Score\n",
            "  Atlanta-Sandy Springs-Roswell, GA Metro Area         0.659275\n",
            "Portland-Vancouver-Hillsboro, OR-WA Metro Area         0.527160\n",
            "                        Jackson, MS Metro Area         0.524247\n"
          ]
        },
        {
          "output_type": "stream",
          "name": "stderr",
          "text": [
            "/usr/local/lib/python3.11/dist-packages/sklearn/utils/_array_api.py:776: RuntimeWarning: All-NaN slice encountered\n",
            "  return xp.asarray(numpy.nanmin(X, axis=axis))\n",
            "/usr/local/lib/python3.11/dist-packages/sklearn/utils/_array_api.py:793: RuntimeWarning: All-NaN slice encountered\n",
            "  return xp.asarray(numpy.nanmax(X, axis=axis))\n"
          ]
        }
      ]
    },
    {
      "cell_type": "code",
      "source": [
        "import pandas as pd\n",
        "from sklearn.preprocessing import MinMaxScaler\n",
        "\n",
        "# Load ACS and other datasets\n",
        "dp03 = pd.read_csv(\"/content/drive/MyDrive/HACKATHON_2025/ACSDP1Y2023.DP03-Data.csv\")\n",
        "dp02 = pd.read_csv(\"/content/drive/MyDrive/HACKATHON_2025/ACSDP1Y2023.DP02-Data.csv\")\n",
        "dp05 = pd.read_csv(\"/content/drive/MyDrive/HACKATHON_2025/ACSDP1Y2023.DP05-Data.csv\")\n",
        "timber_df = pd.read_csv(\"/content/drive/MyDrive/HACKATHON_2025/TimberdataUS.csv\")\n",
        "tissue_df = pd.read_csv(\"/content/drive/MyDrive/HACKATHON_2025/TissueConsumptionUS.csv\")\n",
        "disaster_df = pd.read_csv(\"/content/drive/MyDrive/HACKATHON_2025/water_risk_with_msa_geo_id.csv\")\n",
        "fire_df = pd.read_csv(\"/content/drive/MyDrive/HACKATHON_2025/ForestFires20-24.csv\")\n",
        "\n",
        "# Filter forest fire data to 2023 only\n",
        "fire_2023 = fire_df[fire_df[\"Year\"] == 2023]\n",
        "fire_2023_agg = fire_2023.groupby(\"GEO_ID\").agg({\n",
        "    \"Fires\": \"sum\",\n",
        "    \"Acres Burned\": \"sum\",\n",
        "    \"Forest Acres Est.\": \"mean\"\n",
        "}).reset_index()\n",
        "fire_2023_agg.columns = [\"GEO_ID\", \"Fires (2023)\", \"Acres Burned (2023)\", \"Avg Forest Acres (2023)\"]\n",
        "\n",
        "# ACS column selections\n",
        "dp03_cols = {\n",
        "    \"Metro Area\": \"NAME\",\n",
        "    \"Employed %\": \"DP03_0004PE\",\n",
        "    \"Unemployment Rate %\": \"DP03_0009PE\",\n",
        "    \"Employed Population\": \"DP03_0026E\",\n",
        "    \"Median Household Income\": \"DP03_0062E\",\n",
        "    \"Median Earnings for Workers\": \"DP03_0092E\",\n",
        "    \"% Manufacturing\": \"DP03_0035PE\",\n",
        "    \"% Forestry and Mining\": \"DP03_0033PE\",\n",
        "    \"% Transportation & Utilities\": \"DP03_0038PE\",\n",
        "    \"Mean Travel Time to Work\": \"DP03_0025E\",\n",
        "    \"Poverty Rate %\": \"DP03_0119PE\"\n",
        "}\n",
        "\n",
        "dp02_cols = {\n",
        "    \"High School Graduate %\": \"DP02_0067PE\",\n",
        "    \"Married-couple Household %\": \"DP02_0002PE\",\n",
        "    \"Civilian Veterans %\": \"DP02_0070PE\",\n",
        "    \"Non-English Language %\": \"DP02_0114PE\",\n",
        "    \"Broadband Subscription %\": \"DP02_0154PE\"\n",
        "}\n",
        "\n",
        "dp05_cols = {\n",
        "    \"Total Population\": \"DP05_0001E\",\n",
        "    \"Population Margin of Error\": \"DP05_0001M\",\n",
        "    \"Population Age Insight\": \"DP05_0021E\"\n",
        "}\n",
        "\n",
        "# Process ACS files\n",
        "df_dp03 = dp03[list(dp03_cols.values())].copy()\n",
        "df_dp03.columns = list(dp03_cols.keys())\n",
        "\n",
        "df_dp02 = dp02[list(dp02_cols.values()) + [\"NAME\"]].copy()\n",
        "df_dp02.columns = list(dp02_cols.keys()) + [\"Metro Area\"]\n",
        "\n",
        "df_dp05 = dp05[list(dp05_cols.values()) + [\"NAME\"]].copy()\n",
        "df_dp05.columns = list(dp05_cols.keys()) + [\"Metro Area\"]\n",
        "\n",
        "# Merge base demographic data\n",
        "df = pd.merge(df_dp03, df_dp02, on=\"Metro Area\")\n",
        "df = pd.merge(df, df_dp05, on=\"Metro Area\")\n",
        "\n",
        "# Add optional features\n",
        "df[\"Recent Movers %\"] = pd.to_numeric(dp02.get(\"DP02_0086PE\"), errors='coerce')\n",
        "df[\"Computer Access %\"] = pd.to_numeric(dp02.get(\"DP02_0153PE\"), errors='coerce')\n",
        "\n",
        "# Convert to numeric and drop missing\n",
        "for col in df.columns.drop(\"Metro Area\"):\n",
        "    df[col] = pd.to_numeric(df[col], errors='coerce')\n",
        "df.dropna(inplace=True)\n",
        "\n",
        "# Merge Timber availability\n",
        "timber_df = timber_df[[\"MSA_Name\", \"Capacity_BBF\"]].drop_duplicates()\n",
        "timber_df.columns = [\"Metro Area\", \"Timber Availability\"]\n",
        "df = pd.merge(df, timber_df, on=\"Metro Area\", how=\"left\")\n",
        "\n",
        "# Merge Tissue demand\n",
        "df[\"Region\"] = df[\"Metro Area\"].str.extract(r',\\s*([A-Z]{2})')\n",
        "# Fix: Select only relevant columns before renaming\n",
        "tissue_df = tissue_df[[\"Region\", \"Consumption_Metric_Tons\"]].copy()\n",
        "tissue_df.columns = [\"Region\", \"Tissue Demand\"]\n",
        "df = pd.merge(df, tissue_df, on=\"Region\", how=\"left\")\n",
        "\n",
        "# Merge Disaster risk data by GEO_ID\n",
        "df = pd.merge(df, disaster_df, left_on=\"Metro Area\", right_on=\"GEO_ID\", how=\"left\")\n",
        "\n",
        "# Merge Forest Fire metrics (2023 only)\n",
        "df = pd.merge(df, fire_2023_agg, on=\"GEO_ID\", how=\"left\")\n",
        "\n",
        "# ------------------------------\n",
        "# Create Composite Feature Metrics\n",
        "# ------------------------------\n",
        "max_income = df[\"Median Household Income\"].max()\n",
        "\n",
        "df[\"Labor Force Potential\"] = (\n",
        "    df[\"Employed Population\"] *\n",
        "    df[\"High School Graduate %\"] *\n",
        "    df[\"Civilian Veterans %\"]\n",
        ")\n",
        "\n",
        "df[\"Labor Cost Index\"] = (\n",
        "    (1 - df[\"Median Household Income\"] / max_income) +\n",
        "    df[\"Poverty Rate %\"] +\n",
        "    df[\"Non-English Language %\"]\n",
        ")\n",
        "\n",
        "df[\"Infrastructure Score\"] = (\n",
        "    df[\"Computer Access %\"] +\n",
        "    df[\"Broadband Subscription %\"]\n",
        ")\n",
        "\n",
        "df[\"Stability Factor\"] = (\n",
        "    df[\"Married-couple Household %\"] *\n",
        "    (1 - df[\"Recent Movers %\"])\n",
        ")\n",
        "\n",
        "# ------------------------------\n",
        "# Final Features for Composite Score\n",
        "# ------------------------------\n",
        "final_features = [\n",
        "    \"Labor Force Potential\", \"Labor Cost Index\", \"Infrastructure Score\", \"Stability Factor\",\n",
        "    \"Timber Availability\", \"Tissue Demand\",\n",
        "    \"WNTW_RISKV\", \"WNTW_EALS\", \"WNTW_ALRB\", \"WNTW_ALRP\", \"WNTW_ALRA\", \"WNTW_ALR_NPCTL\",\n",
        "    \"Fires (2023)\", \"Acres Burned (2023)\"\n",
        "]\n",
        "\n",
        "# Drop rows with >2 missing values in final features\n",
        "df = df[df[final_features].isnull().sum(axis=1) <= 9]\n",
        "\n",
        "# ------------------------------\n",
        "# Normalize and Score\n",
        "# ------------------------------\n",
        "scaler = MinMaxScaler()\n",
        "df_scaled = pd.DataFrame(scaler.fit_transform(df[final_features]), columns=final_features)\n",
        "df_scaled[\"Metro Area\"] = df[\"Metro Area\"].values\n",
        "\n",
        "# Invert cost/risk features\n",
        "invert = [\"Labor Cost Index\", \"WNTW_RISKV\", \"WNTW_EALS\", \"WNTW_ALRB\", \"WNTW_ALRP\",\n",
        "          \"WNTW_ALRA\", \"WNTW_ALR_NPCTL\", \"Fires (2023)\", \"Acres Burned (2023)\"]\n",
        "df_scaled[invert] = 1 - df_scaled[invert]\n",
        "\n",
        "# Composite Score: average of normalized features\n",
        "df_scaled[\"Composite Score\"] = df_scaled.drop(columns=[\"Metro Area\"]).mean(axis=1)\n",
        "\n",
        "# ------------------------------\n",
        "# Top 3 Results\n",
        "# ------------------------------\n",
        "top_3 = df_scaled.sort_values(by=\"Composite Score\", ascending=False)[[\"Metro Area\", \"Composite Score\"]].head(3)\n",
        "\n",
        "print(\"Top 3 Recommended Tissue Mill Locations:\")\n",
        "print(top_3.to_string(index=False))"
      ],
      "metadata": {
        "id": "RnzB7upddtbl",
        "colab": {
          "base_uri": "https://localhost:8080/"
        },
        "outputId": "ce53cda3-c7a8-4e7f-b257-f023def0a387"
      },
      "execution_count": null,
      "outputs": [
        {
          "output_type": "stream",
          "name": "stdout",
          "text": [
            "Top 3 Recommended Tissue Mill Locations:\n",
            "                                    Metro Area  Composite Score\n",
            "  Atlanta-Sandy Springs-Roswell, GA Metro Area         0.659275\n",
            "Portland-Vancouver-Hillsboro, OR-WA Metro Area         0.526327\n",
            "                        Jackson, MS Metro Area         0.524247\n"
          ]
        },
        {
          "output_type": "stream",
          "name": "stderr",
          "text": [
            "/usr/local/lib/python3.11/dist-packages/sklearn/utils/_array_api.py:776: RuntimeWarning: All-NaN slice encountered\n",
            "  return xp.asarray(numpy.nanmin(X, axis=axis))\n",
            "/usr/local/lib/python3.11/dist-packages/sklearn/utils/_array_api.py:793: RuntimeWarning: All-NaN slice encountered\n",
            "  return xp.asarray(numpy.nanmax(X, axis=axis))\n"
          ]
        }
      ]
    },
    {
      "cell_type": "code",
      "source": [],
      "metadata": {
        "colab": {
          "base_uri": "https://localhost:8080/"
        },
        "id": "-TeO1LEM2-8T",
        "outputId": "3d57d5b7-116f-4a46-b750-6cf2a55cff04"
      },
      "execution_count": null,
      "outputs": [
        {
          "output_type": "stream",
          "name": "stdout",
          "text": [
            "Top 3 Recommended Tissue Mill Locations:\n",
            "                                    Metro Area  Composite Score\n",
            "  Atlanta-Sandy Springs-Roswell, GA Metro Area         0.630342\n",
            "Portland-Vancouver-Hillsboro, OR-WA Metro Area         0.466921\n",
            "Portland-Vancouver-Hillsboro, OR-WA Metro Area         0.445276\n"
          ]
        },
        {
          "output_type": "stream",
          "name": "stderr",
          "text": [
            "/usr/local/lib/python3.11/dist-packages/sklearn/utils/_array_api.py:776: RuntimeWarning: All-NaN slice encountered\n",
            "  return xp.asarray(numpy.nanmin(X, axis=axis))\n",
            "/usr/local/lib/python3.11/dist-packages/sklearn/utils/_array_api.py:793: RuntimeWarning: All-NaN slice encountered\n",
            "  return xp.asarray(numpy.nanmax(X, axis=axis))\n"
          ]
        }
      ]
    },
    {
      "cell_type": "code",
      "source": [],
      "metadata": {
        "id": "fvuyJE6E4JZK"
      },
      "execution_count": null,
      "outputs": []
    }
  ]
}