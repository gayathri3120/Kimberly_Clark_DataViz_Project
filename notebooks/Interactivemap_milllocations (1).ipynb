{
  "nbformat": 4,
  "nbformat_minor": 0,
  "metadata": {
    "colab": {
      "provenance": []
    },
    "kernelspec": {
      "name": "python3",
      "display_name": "Python 3"
    },
    "language_info": {
      "name": "python"
    }
  },
  "cells": [
    {
      "cell_type": "code",
      "execution_count": 1,
      "metadata": {
        "colab": {
          "base_uri": "https://localhost:8080/"
        },
        "id": "-6_JiciBn_9V",
        "outputId": "86bf666a-465d-4d33-f072-50d17474bf73"
      },
      "outputs": [
        {
          "output_type": "stream",
          "name": "stdout",
          "text": [
            "Requirement already satisfied: folium in /usr/local/lib/python3.11/dist-packages (0.19.5)\n",
            "Requirement already satisfied: branca>=0.6.0 in /usr/local/lib/python3.11/dist-packages (from folium) (0.8.1)\n",
            "Requirement already satisfied: jinja2>=2.9 in /usr/local/lib/python3.11/dist-packages (from folium) (3.1.6)\n",
            "Requirement already satisfied: numpy in /usr/local/lib/python3.11/dist-packages (from folium) (2.0.2)\n",
            "Requirement already satisfied: requests in /usr/local/lib/python3.11/dist-packages (from folium) (2.32.3)\n",
            "Requirement already satisfied: xyzservices in /usr/local/lib/python3.11/dist-packages (from folium) (2025.1.0)\n",
            "Requirement already satisfied: MarkupSafe>=2.0 in /usr/local/lib/python3.11/dist-packages (from jinja2>=2.9->folium) (3.0.2)\n",
            "Requirement already satisfied: charset-normalizer<4,>=2 in /usr/local/lib/python3.11/dist-packages (from requests->folium) (3.4.1)\n",
            "Requirement already satisfied: idna<4,>=2.5 in /usr/local/lib/python3.11/dist-packages (from requests->folium) (3.10)\n",
            "Requirement already satisfied: urllib3<3,>=1.21.1 in /usr/local/lib/python3.11/dist-packages (from requests->folium) (2.3.0)\n",
            "Requirement already satisfied: certifi>=2017.4.17 in /usr/local/lib/python3.11/dist-packages (from requests->folium) (2025.1.31)\n"
          ]
        }
      ],
      "source": [
        "pip install folium\n"
      ]
    },
    {
      "cell_type": "code",
      "source": [
        "import folium\n",
        "\n",
        "# Step 1: Mill coordinates\n",
        "mills = {\n",
        "    \"Jackson, MS\": (32.2988, -90.1848),\n",
        "    \"Portland-Vancouver-Hillsboro, OR-WA\": (45.5152, -122.6784),\n",
        "    \"Atlanta-Sandy Springs-Roswell, GA\": (33.7490, -84.3880)\n",
        "}\n",
        "\n",
        "# Step 2: Assigned metros with coordinates\n",
        "assigned_metros = {\n",
        "    \"Jackson, MS\": [\n",
        "        (\"Houston-Pasadena-The Woodlands, TX\", 29.7604, -95.3698),\n",
        "        (\"Dallas-Fort Worth-Arlington, TX\", 32.7767, -96.7970),\n",
        "        (\"Denver-Aurora-Centennial, CO\", 39.7392, -104.9903),\n",
        "        (\"Minneapolis-St. Paul-Bloomington, MN-WI\", 44.9778, -93.2650)\n",
        "    ],\n",
        "    \"Portland-Vancouver-Hillsboro, OR-WA\": [\n",
        "        (\"Seattle-Tacoma-Bellevue, WA\", 47.6062, -122.3321),\n",
        "        (\"San Francisco-Oakland-Fremont, CA\", 37.7749, -122.4194),\n",
        "        (\"San Diego-Chula Vista-Carlsbad, CA\", 32.7157, -117.1611),\n",
        "        (\"Riverside-San Bernardino-Ontario, CA\", 33.9806, -117.3755),\n",
        "        (\"Phoenix-Mesa-Chandler, AZ\", 33.4484, -112.0740),\n",
        "        (\"Los Angeles-Long Beach-Anaheim, CA\", 34.0522, -118.2437)\n",
        "    ],\n",
        "    \"Atlanta-Sandy Springs-Roswell, GA\": [\n",
        "        (\"Atlanta-Sandy Springs-Roswell, GA\", 33.7490, -84.3880),\n",
        "        (\"Tampa-St. Petersburg-Clearwater, FL\", 27.9506, -82.4572),\n",
        "        (\"Baltimore-Columbia-Towson, MD\", 39.2904, -76.6122),\n",
        "        (\"Detroit-Warren-Dearborn, MI\", 42.3314, -83.0458),\n",
        "        (\"Washington-Arlington-Alexandria, DC-VA-MD-WV\", 38.9072, -77.0369),\n",
        "        (\"Miami-Fort Lauderdale-West Palm Beach, FL\", 25.7617, -80.1918),\n",
        "        (\"Philadelphia-Camden-Wilmington, PA-NJ-DE-MD\", 39.9526, -75.1652),\n",
        "        (\"Boston-Cambridge-Newton, MA-NH\", 42.3601, -71.0589),\n",
        "        (\"Chicago-Naperville-Elgin, IL-IN\", 41.8781, -87.6298),\n",
        "        (\"New York-Newark-Jersey City, NY-NJ\", 40.7128, -74.0060)\n",
        "    ]\n",
        "}\n",
        "\n",
        "# Step 3: Colors for each mill\n",
        "colors = {\n",
        "    \"Jackson, MS\": \"red\",\n",
        "    \"Portland-Vancouver-Hillsboro, OR-WA\": \"green\",\n",
        "    \"Atlanta-Sandy Springs-Roswell, GA\": \"blue\"\n",
        "}\n",
        "\n",
        "# Step 4: Create the base map\n",
        "m = folium.Map(location=[39.8283, -98.5795], zoom_start=4)\n",
        "\n",
        "# Step 5: Add mill markers\n",
        "for mill, (lat, lon) in mills.items():\n",
        "    folium.Marker(\n",
        "        location=[lat, lon],\n",
        "        popup=folium.Popup(f\"<b>{mill}</b>\", max_width=300),\n",
        "        icon=folium.Icon(color=colors[mill], icon='industry', prefix='fa')\n",
        "    ).add_to(m)\n",
        "\n",
        "# Step 6: Add metro markers and lines\n",
        "for mill, metros in assigned_metros.items():\n",
        "    mill_lat, mill_lon = mills[mill]\n",
        "    for metro, metro_lat, metro_lon in metros:\n",
        "        # Metro marker\n",
        "        folium.CircleMarker(\n",
        "            location=[metro_lat, metro_lon],\n",
        "            radius=4,\n",
        "            color=colors[mill],\n",
        "            fill=True,\n",
        "            fill_opacity=0.7,\n",
        "            popup=folium.Popup(f\"{metro}\", max_width=300)\n",
        "        ).add_to(m)\n",
        "\n",
        "        # Line from mill to metro\n",
        "        folium.PolyLine(\n",
        "            locations=[[mill_lat, mill_lon], [metro_lat, metro_lon]],\n",
        "            color=colors[mill],\n",
        "            weight=2,\n",
        "            opacity=0.6\n",
        "        ).add_to(m)\n",
        "\n",
        "# Step 7: Save the map\n",
        "m.save(\"mill_metro_assignments_map.html\")\n",
        "print(\"✅ Map saved as 'mill_metro_assignments_map.html'\")\n",
        "\n",
        "from google.colab import files\n",
        "files.download(\"mill_metro_assignments_map.html\")\n",
        "\n"
      ],
      "metadata": {
        "colab": {
          "base_uri": "https://localhost:8080/",
          "height": 34
        },
        "id": "zkkfEPWroGEf",
        "outputId": "5b4201d5-cd6a-4267-fc52-e10fa2b0b1b1"
      },
      "execution_count": 3,
      "outputs": [
        {
          "output_type": "stream",
          "name": "stdout",
          "text": [
            "✅ Map saved as 'mill_metro_assignments_map.html'\n"
          ]
        },
        {
          "output_type": "display_data",
          "data": {
            "text/plain": [
              "<IPython.core.display.Javascript object>"
            ],
            "application/javascript": [
              "\n",
              "    async function download(id, filename, size) {\n",
              "      if (!google.colab.kernel.accessAllowed) {\n",
              "        return;\n",
              "      }\n",
              "      const div = document.createElement('div');\n",
              "      const label = document.createElement('label');\n",
              "      label.textContent = `Downloading \"${filename}\": `;\n",
              "      div.appendChild(label);\n",
              "      const progress = document.createElement('progress');\n",
              "      progress.max = size;\n",
              "      div.appendChild(progress);\n",
              "      document.body.appendChild(div);\n",
              "\n",
              "      const buffers = [];\n",
              "      let downloaded = 0;\n",
              "\n",
              "      const channel = await google.colab.kernel.comms.open(id);\n",
              "      // Send a message to notify the kernel that we're ready.\n",
              "      channel.send({})\n",
              "\n",
              "      for await (const message of channel.messages) {\n",
              "        // Send a message to notify the kernel that we're ready.\n",
              "        channel.send({})\n",
              "        if (message.buffers) {\n",
              "          for (const buffer of message.buffers) {\n",
              "            buffers.push(buffer);\n",
              "            downloaded += buffer.byteLength;\n",
              "            progress.value = downloaded;\n",
              "          }\n",
              "        }\n",
              "      }\n",
              "      const blob = new Blob(buffers, {type: 'application/binary'});\n",
              "      const a = document.createElement('a');\n",
              "      a.href = window.URL.createObjectURL(blob);\n",
              "      a.download = filename;\n",
              "      div.appendChild(a);\n",
              "      a.click();\n",
              "      div.remove();\n",
              "    }\n",
              "  "
            ]
          },
          "metadata": {}
        },
        {
          "output_type": "display_data",
          "data": {
            "text/plain": [
              "<IPython.core.display.Javascript object>"
            ],
            "application/javascript": [
              "download(\"download_ec0e2636-7288-46af-bb35-65e108fd873d\", \"mill_metro_assignments_map.html\", 37498)"
            ]
          },
          "metadata": {}
        }
      ]
    }
  ]
}