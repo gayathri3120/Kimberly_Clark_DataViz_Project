{
  "nbformat": 4,
  "nbformat_minor": 0,
  "metadata": {
    "colab": {
      "provenance": []
    },
    "kernelspec": {
      "name": "python3",
      "display_name": "Python 3"
    },
    "language_info": {
      "name": "python"
    }
  },
  "cells": [
    {
      "cell_type": "code",
      "source": [
        "# If in Colab, then import the drive module from google.colab\n",
        "if 'google.colab' in str(get_ipython()):\n",
        "  from google.colab import drive\n",
        "  # Mount the Google Drive to access files stored there\n",
        "  drive.mount('/content/drive')\n",
        "\n",
        "  # Install the latest version of torchtext library quietly without showing output\n",
        "\n",
        "  !pip install torchinfo -qq\n",
        "\n",
        "  basepath = '/content/drive/MyDrive/HACKATHON_2025'"
      ],
      "metadata": {
        "colab": {
          "base_uri": "https://localhost:8080/"
        },
        "id": "pgj9ZNywk1de",
        "outputId": "d9524e6b-58cd-46f5-980f-4be165a916f2"
      },
      "execution_count": null,
      "outputs": [
        {
          "output_type": "stream",
          "name": "stdout",
          "text": [
            "Drive already mounted at /content/drive; to attempt to forcibly remount, call drive.mount(\"/content/drive\", force_remount=True).\n"
          ]
        }
      ]
    },
    {
      "cell_type": "code",
      "execution_count": null,
      "metadata": {
        "colab": {
          "base_uri": "https://localhost:8080/"
        },
        "id": "8HjWlhVmjVP6",
        "outputId": "e2d943f5-7242-4a2c-bc19-7735c2eeede0"
      },
      "outputs": [
        {
          "output_type": "stream",
          "name": "stdout",
          "text": [
            "           GEO_ID  Unnamed: 0    STATE   COUNTY    WNTW_RISKV      WNTW_RISKR  \\\n",
            "0  310M700US33860           0  Alabama  Autauga   8494.906508        Very Low   \n",
            "1  310M700US19300           1  Alabama  Baldwin  65619.701638  Relatively Low   \n",
            "3  310M700US13820           3  Alabama     Bibb   7496.186940        Very Low   \n",
            "4  310M700US13820           4  Alabama   Blount  17175.160729        Very Low   \n",
            "7  310M700US11500           7  Alabama  Calhoun  35926.190293  Relatively Low   \n",
            "\n",
            "   WNTW_EALS     WNTW_ALRB     WNTW_ALRP     WNTW_ALRA  WNTW_ALR_NPCTL  \n",
            "0  15.784587  2.687716e-07  7.410082e-09  8.725777e-06       10.461158  \n",
            "1  56.205509  1.268231e-09  2.287120e-08  1.548360e-07       13.339523  \n",
            "3  13.308573  9.014679e-07  1.270300e-08  1.202015e-05       16.991643  \n",
            "4  23.645930  5.268425e-07  1.482016e-08  2.002965e-07       12.039616  \n",
            "7  39.306716  2.387269e-07  1.799591e-08  6.346198e-07       11.451563  \n",
            "Final dataset saved to: /content/drive/MyDrive/HACKATHON_2025/water_risk_with_msa_geo_id.csv\n",
            "Number of rows in final dataset: 1113\n"
          ]
        }
      ],
      "source": [
        "import pandas as pd\n",
        "\n",
        "# Step 1: Load the datasets\n",
        "df = pd.read_csv(\"/content/drive/MyDrive/HACKATHON_2025/Disaster_Risk_Dataset_onlyimpcolumns.csv\")\n",
        "cbsa_df = pd.read_csv(\"/content/drive/MyDrive/HACKATHON_2025/cbsa2fipsxw.csv\")\n",
        "\n",
        "# Step 2: Filter for Metropolitan Statistical Areas only\n",
        "msa_df = cbsa_df[cbsa_df[\"metropolitanmicropolitanstatis\"] == \"Metropolitan Statistical Area\"]\n",
        "\n",
        "# Step 3: Create MSA mapping\n",
        "msa_mapping = {\n",
        "    (str(row[\"statename\"]).strip(), str(row[\"countycountyequivalent\"]).strip()): f\"310M700US{str(row['cbsacode']).zfill(5)}\"\n",
        "    for _, row in msa_df.iterrows()\n",
        "}\n",
        "\n",
        "# Step 4: Normalize state and county columns\n",
        "df[\"STATE\"] = df[\"STATE\"].astype(str).str.strip()\n",
        "df[\"COUNTY\"] = df[\"COUNTY\"].astype(str).str.strip()\n",
        "\n",
        "# Step 5: Assign GEO_ID using the mapping\n",
        "df[\"GEO_ID\"] = df.apply(\n",
        "    lambda row: msa_mapping.get((row[\"STATE\"], row[\"COUNTY\"])), axis=1\n",
        ")\n",
        "\n",
        "# Step 6: Remove rows where GEO_ID is NaN (i.e., no MSA match)\n",
        "df = df.dropna(subset=[\"GEO_ID\"])\n",
        "\n",
        "# Step 7: Reorder columns with GEO_ID first\n",
        "cols = [\"GEO_ID\"] + [col for col in df.columns if col != \"GEO_ID\"]\n",
        "df = df[cols]\n",
        "\n",
        "# Step 8: Save the final filtered DataFrame as CSV\n",
        "output_path = \"/content/drive/MyDrive/HACKATHON_2025/water_risk_with_msa_geo_id.csv\"\n",
        "df.to_csv(output_path, index=False)\n",
        "\n",
        "# Optional: Print preview and stats\n",
        "print(df.head())\n",
        "print(f\"Final dataset saved to: {output_path}\")\n",
        "print(f\"Number of rows in final dataset: {len(df)}\")\n"
      ]
    },
    {
      "cell_type": "code",
      "source": [],
      "metadata": {
        "id": "l8ndnogzkEdE"
      },
      "execution_count": null,
      "outputs": []
    }
  ]
}